{
 "cells": [
  {
   "cell_type": "code",
   "execution_count": 1,
   "id": "75263c88",
   "metadata": {},
   "outputs": [
    {
     "name": "stdout",
     "output_type": "stream",
     "text": [
      "Twinkle, twinkle, little star,\n",
      "    How I wonder what you are!\n",
      "        Up above the world so high,\n",
      "        Like a diamond in the sky.\n",
      "Twinkle, twinkle, little star,\n",
      "    How I wonder what you are\n"
     ]
    }
   ],
   "source": [
    "print('''Twinkle, twinkle, little star,\n",
    "    How I wonder what you are!\n",
    "        Up above the world so high,\n",
    "        Like a diamond in the sky.\n",
    "Twinkle, twinkle, little star,\n",
    "    How I wonder what you are''')"
   ]
  },
  {
   "cell_type": "code",
   "execution_count": 2,
   "id": "ba8d84aa",
   "metadata": {},
   "outputs": [
    {
     "name": "stdout",
     "output_type": "stream",
     "text": [
      "3.9.7 (default, Sep 16 2021, 16:59:28) [MSC v.1916 64 bit (AMD64)]\n"
     ]
    }
   ],
   "source": [
    "import sys\n",
    "print(sys.version)"
   ]
  },
  {
   "cell_type": "code",
   "execution_count": 3,
   "id": "fafd6ff7",
   "metadata": {},
   "outputs": [
    {
     "name": "stdout",
     "output_type": "stream",
     "text": [
      "2022-01-02 02:59:57.256096\n"
     ]
    }
   ],
   "source": [
    "import datetime\n",
    "print(datetime.datetime.now())"
   ]
  },
  {
   "cell_type": "code",
   "execution_count": 8,
   "id": "abe0fc79",
   "metadata": {},
   "outputs": [
    {
     "name": "stdout",
     "output_type": "stream",
     "text": [
      "Enter radius of a circle : 2.5\n",
      "Area of the Circle :  19.634954084936208\n"
     ]
    }
   ],
   "source": [
    "import math\n",
    "r = float(input('Enter radius of a circle : '))\n",
    "A = math.pi*pow(r,2)\n",
    "print('Area of the Circle : ',A)"
   ]
  },
  {
   "cell_type": "code",
   "execution_count": 11,
   "id": "9c5248d6",
   "metadata": {},
   "outputs": [
    {
     "name": "stdout",
     "output_type": "stream",
     "text": [
      "Enter your first name : imran\n",
      "Enter your last name : zafar\n",
      "rafaz narmi\n"
     ]
    }
   ],
   "source": [
    "fn = input('Enter your first name : ')\n",
    "ln = input('Enter your last name : ')\n",
    "fn = ''.join(reversed(fn))\n",
    "ln = ''.join(reversed(ln))\n",
    "print(ln+' '+fn)"
   ]
  },
  {
   "cell_type": "code",
   "execution_count": 13,
   "id": "02d7df87",
   "metadata": {},
   "outputs": [
    {
     "name": "stdout",
     "output_type": "stream",
     "text": [
      "Enter 1st number : 2\n",
      "Enter 2nd number : 45\n",
      "47\n"
     ]
    }
   ],
   "source": [
    "n1 = int(input('Enter 1st number : '))\n",
    "n2 = int(input('Enter 2nd number : '))\n",
    "print(n1+n2)"
   ]
  },
  {
   "cell_type": "code",
   "execution_count": null,
   "id": "9a5c04b8",
   "metadata": {},
   "outputs": [],
   "source": []
  }
 ],
 "metadata": {
  "kernelspec": {
   "display_name": "Python 3 (ipykernel)",
   "language": "python",
   "name": "python3"
  },
  "language_info": {
   "codemirror_mode": {
    "name": "ipython",
    "version": 3
   },
   "file_extension": ".py",
   "mimetype": "text/x-python",
   "name": "python",
   "nbconvert_exporter": "python",
   "pygments_lexer": "ipython3",
   "version": "3.9.7"
  }
 },
 "nbformat": 4,
 "nbformat_minor": 5
}
